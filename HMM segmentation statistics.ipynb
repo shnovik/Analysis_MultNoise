{
 "cells": [
  {
   "cell_type": "code",
   "execution_count": 48,
   "metadata": {},
   "outputs": [],
   "source": [
    "import experimentalStatistics as experimental\n",
    "import changedStatistics as segmentation_stats\n",
    "import plotting_funcs_thesis_edited as plot_funcs\n",
    "import numpy as np\n",
    "import pandas as pd\n",
    "import csv\n",
    "import os\n",
    "\n",
    "import matplotlib.pyplot as plt\n",
    "from matplotlib.colors import LogNorm\n",
    "from matplotlib import cycler\n",
    "from matplotlib.ticker import FormatStrFormatter\n",
    "import matplotlib.colors as colors"
   ]
  },
  {
   "cell_type": "code",
   "execution_count": 49,
   "metadata": {},
   "outputs": [],
   "source": [
    "def HMM_Seg_Stats():\n",
    "    \"\"\"For every recording in the Levenstein data segmented using an HMM, calculate statistics and store in pandas dataframe\"\"\"\n",
    "    \n",
    "    # For every recording, get information and calculate stats, then store it:\n",
    "    names_list = []\n",
    "    mean_up_list = []\n",
    "    cv_up_list = []\n",
    "    mean_down_list = []\n",
    "    cv_down_list = []\n",
    "    ud_list = []\n",
    "    du_list = []\n",
    "    perc_up_list = []\n",
    "    perc_down_list = []\n",
    "    \n",
    "    for root, dirs, files in os.walk('C:/Users/Shoshana/Documents/CSHL Summer/Data_CSVs/HMM_UpDownTimes'):\n",
    "        if len(files) == 3:\n",
    "            down_file = os.path.join(root, files[0])\n",
    "            sws_file = os.path.join(root, files[1])\n",
    "            up_file = os.path.join(root, files[2])\n",
    "        \n",
    "            mean_up, cv_up, mean_down, cv_down, ud, du, perc_up, perc_down = experimental.calculateStats(up_file, down_file, sws_file)\n",
    "            name = root[66:]\n",
    "        \n",
    "            names_list.append(name)\n",
    "            mean_up_list.append(mean_up)\n",
    "            cv_up_list.append(cv_up)\n",
    "            mean_down_list.append(mean_down)\n",
    "            cv_down_list.append(cv_down)\n",
    "            ud_list.append(ud)\n",
    "            du_list.append(du)\n",
    "            perc_up_list.append(perc_up)\n",
    "            perc_down_list.append(perc_down)\n",
    "    \n",
    "    \n",
    "    # Create the data frame:\n",
    "    info_dict = {\"Name\": names_list, \"meanUp\": mean_up_list, \"meanDown\": mean_down_list, \"cvUp\": cv_up_list,  \n",
    "                 \"cvDown\": cv_down_list, \"SCC U->D\": ud_list, \"SCC D->U\": du_list, \"percUp\": perc_up_list, \"percDown\": perc_down_list}\n",
    "    HMM_Seg_Data = pd.DataFrame(info_dict)\n",
    "    return HMM_Seg_Data\n",
    "    "
   ]
  },
  {
   "cell_type": "code",
   "execution_count": 50,
   "metadata": {},
   "outputs": [
    {
     "data": {
      "text/html": [
       "<div>\n",
       "<style scoped>\n",
       "    .dataframe tbody tr th:only-of-type {\n",
       "        vertical-align: middle;\n",
       "    }\n",
       "\n",
       "    .dataframe tbody tr th {\n",
       "        vertical-align: top;\n",
       "    }\n",
       "\n",
       "    .dataframe thead th {\n",
       "        text-align: right;\n",
       "    }\n",
       "</style>\n",
       "<table border=\"1\" class=\"dataframe\">\n",
       "  <thead>\n",
       "    <tr style=\"text-align: right;\">\n",
       "      <th></th>\n",
       "      <th>Name</th>\n",
       "      <th>meanUp</th>\n",
       "      <th>meanDown</th>\n",
       "      <th>cvUp</th>\n",
       "      <th>cvDown</th>\n",
       "      <th>SCC U-&gt;D</th>\n",
       "      <th>SCC D-&gt;U</th>\n",
       "      <th>percUp</th>\n",
       "      <th>percDown</th>\n",
       "    </tr>\n",
       "  </thead>\n",
       "  <tbody>\n",
       "    <tr>\n",
       "      <th>0</th>\n",
       "      <td>20140526_277um</td>\n",
       "      <td>1.330781</td>\n",
       "      <td>0.205919</td>\n",
       "      <td>1.090007</td>\n",
       "      <td>1.105370</td>\n",
       "      <td>-0.111712</td>\n",
       "      <td>-0.088098</td>\n",
       "      <td>86.60</td>\n",
       "      <td>13.40</td>\n",
       "    </tr>\n",
       "    <tr>\n",
       "      <th>1</th>\n",
       "      <td>20140527_421um</td>\n",
       "      <td>3.635034</td>\n",
       "      <td>0.652275</td>\n",
       "      <td>1.199817</td>\n",
       "      <td>1.184276</td>\n",
       "      <td>-0.135117</td>\n",
       "      <td>-0.133876</td>\n",
       "      <td>85.06</td>\n",
       "      <td>14.94</td>\n",
       "    </tr>\n",
       "    <tr>\n",
       "      <th>2</th>\n",
       "      <td>20140528_565um</td>\n",
       "      <td>4.259625</td>\n",
       "      <td>0.741603</td>\n",
       "      <td>1.047473</td>\n",
       "      <td>1.070360</td>\n",
       "      <td>-0.028178</td>\n",
       "      <td>-0.030904</td>\n",
       "      <td>85.19</td>\n",
       "      <td>14.81</td>\n",
       "    </tr>\n",
       "    <tr>\n",
       "      <th>3</th>\n",
       "      <td>Bogey_012615</td>\n",
       "      <td>3.747282</td>\n",
       "      <td>0.468869</td>\n",
       "      <td>1.106525</td>\n",
       "      <td>1.162532</td>\n",
       "      <td>-0.072808</td>\n",
       "      <td>-0.088511</td>\n",
       "      <td>88.89</td>\n",
       "      <td>11.11</td>\n",
       "    </tr>\n",
       "    <tr>\n",
       "      <th>4</th>\n",
       "      <td>BWRat17_121912</td>\n",
       "      <td>8.582936</td>\n",
       "      <td>0.344583</td>\n",
       "      <td>1.124944</td>\n",
       "      <td>0.819781</td>\n",
       "      <td>-0.166623</td>\n",
       "      <td>-0.147922</td>\n",
       "      <td>96.15</td>\n",
       "      <td>3.85</td>\n",
       "    </tr>\n",
       "    <tr>\n",
       "      <th>5</th>\n",
       "      <td>BWRat19_032413</td>\n",
       "      <td>5.357875</td>\n",
       "      <td>2.002418</td>\n",
       "      <td>1.226866</td>\n",
       "      <td>1.776105</td>\n",
       "      <td>-0.165524</td>\n",
       "      <td>-0.155017</td>\n",
       "      <td>72.79</td>\n",
       "      <td>27.21</td>\n",
       "    </tr>\n",
       "    <tr>\n",
       "      <th>6</th>\n",
       "      <td>BWRat19_032513</td>\n",
       "      <td>2.883855</td>\n",
       "      <td>1.041412</td>\n",
       "      <td>1.079275</td>\n",
       "      <td>1.323572</td>\n",
       "      <td>-0.121058</td>\n",
       "      <td>-0.104474</td>\n",
       "      <td>73.51</td>\n",
       "      <td>26.49</td>\n",
       "    </tr>\n",
       "    <tr>\n",
       "      <th>7</th>\n",
       "      <td>BWRat20_101013</td>\n",
       "      <td>2.329898</td>\n",
       "      <td>0.335847</td>\n",
       "      <td>1.180429</td>\n",
       "      <td>1.006971</td>\n",
       "      <td>-0.101370</td>\n",
       "      <td>-0.077467</td>\n",
       "      <td>87.40</td>\n",
       "      <td>12.60</td>\n",
       "    </tr>\n",
       "  </tbody>\n",
       "</table>\n",
       "</div>"
      ],
      "text/plain": [
       "             Name    meanUp  meanDown      cvUp    cvDown  SCC U->D  SCC D->U  \\\n",
       "0  20140526_277um  1.330781  0.205919  1.090007  1.105370 -0.111712 -0.088098   \n",
       "1  20140527_421um  3.635034  0.652275  1.199817  1.184276 -0.135117 -0.133876   \n",
       "2  20140528_565um  4.259625  0.741603  1.047473  1.070360 -0.028178 -0.030904   \n",
       "3    Bogey_012615  3.747282  0.468869  1.106525  1.162532 -0.072808 -0.088511   \n",
       "4  BWRat17_121912  8.582936  0.344583  1.124944  0.819781 -0.166623 -0.147922   \n",
       "5  BWRat19_032413  5.357875  2.002418  1.226866  1.776105 -0.165524 -0.155017   \n",
       "6  BWRat19_032513  2.883855  1.041412  1.079275  1.323572 -0.121058 -0.104474   \n",
       "7  BWRat20_101013  2.329898  0.335847  1.180429  1.006971 -0.101370 -0.077467   \n",
       "\n",
       "   percUp  percDown  \n",
       "0   86.60     13.40  \n",
       "1   85.06     14.94  \n",
       "2   85.19     14.81  \n",
       "3   88.89     11.11  \n",
       "4   96.15      3.85  \n",
       "5   72.79     27.21  \n",
       "6   73.51     26.49  \n",
       "7   87.40     12.60  "
      ]
     },
     "execution_count": 50,
     "metadata": {},
     "output_type": "execute_result"
    }
   ],
   "source": [
    "HMM_Seg_Data = HMM_Seg_Stats()\n",
    "HMM_Seg_Data"
   ]
  },
  {
   "cell_type": "code",
   "execution_count": 51,
   "metadata": {},
   "outputs": [
    {
     "data": {
      "text/plain": [
       "(-0.5, 0.5)"
      ]
     },
     "execution_count": 51,
     "metadata": {},
     "output_type": "execute_result"
    },
    {
     "data": {
      "image/png": "[encoded data removed]",
      "text/plain": [
       "<Figure size 432x288 with 1 Axes>"
      ]
     },
     "metadata": {},
     "output_type": "display_data"
    }
   ],
   "source": [
    "# SCC Plot\n",
    "\n",
    "fig, ax = plt.subplots()\n",
    "lims = [-0.5, 0.5]\n",
    "plt.scatter(x = HMM_Seg_Data[\"SCC D->U\"], y = HMM_Seg_Data[\"SCC U->D\"], s = 100) \n",
    "plt.xlabel(\"SCC D -> U\")\n",
    "plt.ylabel(\"SCC U -> D\")\n",
    "ax.plot(lims, lims, 'k-', alpha=0.75, zorder=0)\n",
    "ax.set_xlim(lims)\n",
    "ax.set_ylim(lims)"
   ]
  },
  {
   "cell_type": "code",
   "execution_count": 52,
   "metadata": {},
   "outputs": [],
   "source": [
    "# Create a data frame of statistics used by the classifier\n",
    "\n",
    "classifierData = pd.DataFrame.copy(HMM_Seg_Data)\n",
    "\n",
    "classifierData[\"cvDiff\"] = classifierData[\"cvUp\"] - classifierData[\"cvDown\"]\n",
    "classifierData[\"sccDiff\"] = classifierData[\"SCC U->D\"] - classifierData[\"SCC D->U\"]\n",
    "classifierData.drop(labels = [\"cvUp\", \"cvDown\"], axis = 1, inplace = True)\n",
    "classifierData.drop(labels = [\"SCC U->D\", \"SCC D->U\"], axis = 1, inplace = True)\n",
    "classifierData.drop(labels = [\"meanUp\", \"meanDown\", \"percDown\"], axis = 1, inplace = True)"
   ]
  },
  {
   "cell_type": "code",
   "execution_count": 53,
   "metadata": {},
   "outputs": [
    {
     "data": {
      "text/plain": [
       "(-1, 1)"
      ]
     },
     "execution_count": 53,
     "metadata": {},
     "output_type": "execute_result"
    },
    {
     "data": {
      "image/png": "[encoded data removed]",
      "text/plain": [
       "<Figure size 432x288 with 1 Axes>"
      ]
     },
     "metadata": {},
     "output_type": "display_data"
    }
   ],
   "source": [
    "# CV diff and percUp plot\n",
    "\n",
    "fig, ax = plt.subplots()\n",
    "plt.scatter(x = classifierData[\"percUp\"], y = classifierData[\"cvDiff\"]) \n",
    "plt.xlabel(\"PercUp\")\n",
    "plt.ylabel(\"CVUp - CVDown\")\n",
    "#ax.plot([0, 0], [100, 0], 'k-', alpha=0.75, zorder = 0)\n",
    "#ax.plot([50, -1], [50, 1], 'k-', alpha=0.75, zorder = 1)\n",
    "ax.set_xlim([0, 100])\n",
    "ax.set_ylim([-1, 1])"
   ]
  },
  {
   "cell_type": "code",
   "execution_count": null,
   "metadata": {},
   "outputs": [],
   "source": []
  }
 ],
 "metadata": {
  "kernelspec": {
   "display_name": "Python 3",
   "language": "python",
   "name": "python3"
  },
  "language_info": {
   "codemirror_mode": {
    "name": "ipython",
    "version": 3
   },
   "file_extension": ".py",
   "mimetype": "text/x-python",
   "name": "python",
   "nbconvert_exporter": "python",
   "pygments_lexer": "ipython3",
   "version": "3.6.5"
  }
 },
 "nbformat": 4,
 "nbformat_minor": 2
}
